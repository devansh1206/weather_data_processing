{
 "cells": [
  {
   "cell_type": "code",
   "execution_count": 1,
   "metadata": {},
   "outputs": [],
   "source": [
    "import os \n",
    "import requests   #to get the webpage\n",
    "import json       #to convert API to json format \n",
    "from urllib.parse import urlencode \n",
    "import numpy as np\n",
    "import pandas as pd\n",
    "import re  "
   ]
  },
  {
   "cell_type": "code",
   "execution_count": 2,
   "metadata": {},
   "outputs": [
    {
     "data": {
      "text/plain": [
       "'https://locator-service.api.bbci.co.uk/locations?api_key=AGbFAKx58hyjQScCXIYrxuEwJh2W2cmv&s=New+Delhi&stack=aws&locale=en&filter=international&place-types=settlement%2Cairport%2Cdistrict&order=importance&a=true&format=json'"
      ]
     },
     "execution_count": 2,
     "metadata": {},
     "output_type": "execute_result"
    }
   ],
   "source": [
    "test_city = \"New Delhi\"\n",
    "location_url = \"https://locator-service.api.bbci.co.uk/locations?\" + urlencode({\n",
    "    \"api_key\" : \"AGbFAKx58hyjQScCXIYrxuEwJh2W2cmv\",\n",
    "    \"s\" : test_city,\n",
    "    \"stack\":\"aws\",\n",
    "    \"locale\":\"en\",\n",
    "    \"filter\":\"international\",\n",
    "    \"place-types\":\"settlement,airport,district\",\n",
    "    \"order\":\"importance\",\n",
    "    \"a\":\"true\",\n",
    "    \"format\":\"json\"\n",
    "})\n",
    "location_url"
   ]
  },
  {
   "cell_type": "code",
   "execution_count": 3,
   "metadata": {},
   "outputs": [
    {
     "data": {
      "text/plain": [
       "{'response': {'results': {'results': [{'id': '1261481',\n",
       "     'name': 'New Delhi',\n",
       "     'container': 'India',\n",
       "     'containerId': 1269750,\n",
       "     'language': 'en',\n",
       "     'timezone': 'Asia/Kolkata',\n",
       "     'country': 'IN',\n",
       "     'latitude': 28.63576,\n",
       "     'longitude': 77.22445,\n",
       "     'placeType': 'settlement'}],\n",
       "   'totalResults': 1}}}"
      ]
     },
     "execution_count": 3,
     "metadata": {},
     "output_type": "execute_result"
    }
   ],
   "source": [
    "result = requests.get(location_url).json()\n",
    "result"
   ]
  },
  {
   "cell_type": "code",
   "execution_count": 4,
   "metadata": {},
   "outputs": [
    {
     "data": {
      "text/plain": [
       "'1261481'"
      ]
     },
     "execution_count": 4,
     "metadata": {},
     "output_type": "execute_result"
    }
   ],
   "source": [
    "# print location id \n",
    "result[\"response\"][\"results\"][\"results\"][0][\"id\"]"
   ]
  },
  {
   "cell_type": "markdown",
   "metadata": {},
   "source": [
    "# Creating a function to output location id by taking any city name as input"
   ]
  },
  {
   "cell_type": "code",
   "execution_count": 6,
   "metadata": {},
   "outputs": [],
   "source": [
    "def getlocid(city):\n",
    "  city = city.lower()  # convert city name to lowercase \n",
    "  # #convert into an API call using URL encoding \n",
    "  location_url = \"https://locator-service.api.bbci.co.uk/locations?\" + urlencode({\n",
    "    \"api_key\" : \"AGbFAKx58hyjQScCXIYrxuEwJh2W2cmv\",\n",
    "    \"s\" : city,\n",
    "    \"stack\":\"aws\",\n",
    "    \"locale\":\"en\",\n",
    "    \"filter\":\"international\",\n",
    "    \"place-types\":\"settlement,airport,district\",\n",
    "    \"order\":\"importance\",\n",
    "    \"a\":\"true\",\n",
    "    \"format\":\"json\"\n",
    "  })\n",
    "  result = requests.get(location_url).json()\n",
    "  locid = result['response']['results']['results'][0]['id']\n",
    "  return locid"
   ]
  },
  {
   "cell_type": "code",
   "execution_count": 7,
   "metadata": {},
   "outputs": [
    {
     "data": {
      "text/plain": [
       "'292968'"
      ]
     },
     "execution_count": 7,
     "metadata": {},
     "output_type": "execute_result"
    }
   ],
   "source": [
    "getlocid('Abu Dhabi')"
   ]
  },
  {
   "cell_type": "code",
   "execution_count": 8,
   "metadata": {},
   "outputs": [
    {
     "data": {
      "text/plain": [
       "'6167865'"
      ]
     },
     "execution_count": 8,
     "metadata": {},
     "output_type": "execute_result"
    }
   ],
   "source": [
    "getlocid('Toronto')"
   ]
  },
  {
   "cell_type": "code",
   "execution_count": 9,
   "metadata": {},
   "outputs": [],
   "source": [
    "from bs4 import BeautifulSoup as bs\n",
    "from datetime import datetime"
   ]
  },
  {
   "cell_type": "code",
   "execution_count": 10,
   "metadata": {},
   "outputs": [
    {
     "data": {
      "text/plain": [
       "'https://www.bbc.com/weather/1275339'"
      ]
     },
     "execution_count": 10,
     "metadata": {},
     "output_type": "execute_result"
    }
   ],
   "source": [
    "url = \"https://www.bbc.com/weather/\" + getlocid(\"Mumbai\")\n",
    "url"
   ]
  },
  {
   "cell_type": "code",
   "execution_count": 11,
   "metadata": {},
   "outputs": [
    {
     "data": {
      "text/plain": [
       "<Response [200]>"
      ]
     },
     "execution_count": 11,
     "metadata": {},
     "output_type": "execute_result"
    }
   ],
   "source": [
    "response = requests.get(url)\n",
    "response"
   ]
  },
  {
   "cell_type": "code",
   "execution_count": 12,
   "metadata": {},
   "outputs": [],
   "source": [
    "import bs4\n",
    "soup = bs(response.content, \"html.parser\")"
   ]
  },
  {
   "cell_type": "code",
   "execution_count": 13,
   "metadata": {},
   "outputs": [
    {
     "data": {
      "text/plain": [
       "[<span class=\"wr-day-temperature__high-value\"><span class=\"wr-value--temperature\"><span class=\"wr-value--temperature--c\">30°</span><span class=\"wr-hide\"> </span><span class=\"wr-value--temperature--f\">86°</span></span></span>,\n",
       " <span class=\"wr-day-temperature__high-value\"><span class=\"wr-value--temperature\"><span class=\"wr-value--temperature--c\">29°</span><span class=\"wr-hide\"> </span><span class=\"wr-value--temperature--f\">85°</span></span></span>,\n",
       " <span class=\"wr-day-temperature__high-value\"><span class=\"wr-value--temperature\"><span class=\"wr-value--temperature--c\">29°</span><span class=\"wr-hide\"> </span><span class=\"wr-value--temperature--f\">84°</span></span></span>,\n",
       " <span class=\"wr-day-temperature__high-value\"><span class=\"wr-value--temperature\"><span class=\"wr-value--temperature--c\">29°</span><span class=\"wr-hide\"> </span><span class=\"wr-value--temperature--f\">85°</span></span></span>,\n",
       " <span class=\"wr-day-temperature__high-value\"><span class=\"wr-value--temperature\"><span class=\"wr-value--temperature--c\">30°</span><span class=\"wr-hide\"> </span><span class=\"wr-value--temperature--f\">86°</span></span></span>,\n",
       " <span class=\"wr-day-temperature__high-value\"><span class=\"wr-value--temperature\"><span class=\"wr-value--temperature--c\">31°</span><span class=\"wr-hide\"> </span><span class=\"wr-value--temperature--f\">87°</span></span></span>,\n",
       " <span class=\"wr-day-temperature__high-value\"><span class=\"wr-value--temperature\"><span class=\"wr-value--temperature--c\">31°</span><span class=\"wr-hide\"> </span><span class=\"wr-value--temperature--f\">87°</span></span></span>,\n",
       " <span class=\"wr-day-temperature__high-value\"><span class=\"wr-value--temperature\"><span class=\"wr-value--temperature--c\">31°</span><span class=\"wr-hide\"> </span><span class=\"wr-value--temperature--f\">87°</span></span></span>,\n",
       " <span class=\"wr-day-temperature__high-value\"><span class=\"wr-value--temperature\"><span class=\"wr-value--temperature--c\">31°</span><span class=\"wr-hide\"> </span><span class=\"wr-value--temperature--f\">87°</span></span></span>,\n",
       " <span class=\"wr-day-temperature__high-value\"><span class=\"wr-value--temperature\"><span class=\"wr-value--temperature--c\">30°</span><span class=\"wr-hide\"> </span><span class=\"wr-value--temperature--f\">87°</span></span></span>,\n",
       " <span class=\"wr-day-temperature__high-value\"><span class=\"wr-value--temperature\"><span class=\"wr-value--temperature--c\">31°</span><span class=\"wr-hide\"> </span><span class=\"wr-value--temperature--f\">87°</span></span></span>,\n",
       " <span class=\"wr-day-temperature__high-value\"><span class=\"wr-value--temperature\"><span class=\"wr-value--temperature--c\">30°</span><span class=\"wr-hide\"> </span><span class=\"wr-value--temperature--f\">87°</span></span></span>,\n",
       " <span class=\"wr-day-temperature__high-value\"><span class=\"wr-value--temperature\"><span class=\"wr-value--temperature--c\">31°</span><span class=\"wr-hide\"> </span><span class=\"wr-value--temperature--f\">87°</span></span></span>,\n",
       " <span class=\"wr-day-temperature__high-value\"><span class=\"wr-value--temperature\"><span class=\"wr-value--temperature--c\">31°</span><span class=\"wr-hide\"> </span><span class=\"wr-value--temperature--f\">89°</span></span></span>]"
      ]
     },
     "execution_count": 13,
     "metadata": {},
     "output_type": "execute_result"
    }
   ],
   "source": [
    "daily_high_values = soup.find_all('span', attrs = {'class':'wr-day-temperature__high-value'})\n",
    "daily_high_values"
   ]
  },
  {
   "cell_type": "code",
   "execution_count": 14,
   "metadata": {},
   "outputs": [
    {
     "data": {
      "text/plain": [
       "[<span class=\"wr-day-temperature__low-value\"><span class=\"wr-value--temperature\"><span class=\"wr-value--temperature--c\">24°</span><span class=\"wr-hide\"> </span><span class=\"wr-value--temperature--f\">75°</span></span></span>,\n",
       " <span class=\"wr-day-temperature__low-value\"><span class=\"wr-value--temperature\"><span class=\"wr-value--temperature--c\">25°</span><span class=\"wr-hide\"> </span><span class=\"wr-value--temperature--f\">77°</span></span></span>,\n",
       " <span class=\"wr-day-temperature__low-value\"><span class=\"wr-value--temperature\"><span class=\"wr-value--temperature--c\">25°</span><span class=\"wr-hide\"> </span><span class=\"wr-value--temperature--f\">77°</span></span></span>,\n",
       " <span class=\"wr-day-temperature__low-value\"><span class=\"wr-value--temperature\"><span class=\"wr-value--temperature--c\">25°</span><span class=\"wr-hide\"> </span><span class=\"wr-value--temperature--f\">77°</span></span></span>,\n",
       " <span class=\"wr-day-temperature__low-value\"><span class=\"wr-value--temperature\"><span class=\"wr-value--temperature--c\">25°</span><span class=\"wr-hide\"> </span><span class=\"wr-value--temperature--f\">77°</span></span></span>,\n",
       " <span class=\"wr-day-temperature__low-value\"><span class=\"wr-value--temperature\"><span class=\"wr-value--temperature--c\">25°</span><span class=\"wr-hide\"> </span><span class=\"wr-value--temperature--f\">77°</span></span></span>,\n",
       " <span class=\"wr-day-temperature__low-value\"><span class=\"wr-value--temperature\"><span class=\"wr-value--temperature--c\">25°</span><span class=\"wr-hide\"> </span><span class=\"wr-value--temperature--f\">77°</span></span></span>,\n",
       " <span class=\"wr-day-temperature__low-value\"><span class=\"wr-value--temperature\"><span class=\"wr-value--temperature--c\">25°</span><span class=\"wr-hide\"> </span><span class=\"wr-value--temperature--f\">78°</span></span></span>,\n",
       " <span class=\"wr-day-temperature__low-value\"><span class=\"wr-value--temperature\"><span class=\"wr-value--temperature--c\">25°</span><span class=\"wr-hide\"> </span><span class=\"wr-value--temperature--f\">77°</span></span></span>,\n",
       " <span class=\"wr-day-temperature__low-value\"><span class=\"wr-value--temperature\"><span class=\"wr-value--temperature--c\">25°</span><span class=\"wr-hide\"> </span><span class=\"wr-value--temperature--f\">77°</span></span></span>,\n",
       " <span class=\"wr-day-temperature__low-value\"><span class=\"wr-value--temperature\"><span class=\"wr-value--temperature--c\">25°</span><span class=\"wr-hide\"> </span><span class=\"wr-value--temperature--f\">78°</span></span></span>,\n",
       " <span class=\"wr-day-temperature__low-value\"><span class=\"wr-value--temperature\"><span class=\"wr-value--temperature--c\">25°</span><span class=\"wr-hide\"> </span><span class=\"wr-value--temperature--f\">78°</span></span></span>,\n",
       " <span class=\"wr-day-temperature__low-value\"><span class=\"wr-value--temperature\"><span class=\"wr-value--temperature--c\">25°</span><span class=\"wr-hide\"> </span><span class=\"wr-value--temperature--f\">78°</span></span></span>,\n",
       " <span class=\"wr-day-temperature__low-value\"><span class=\"wr-value--temperature\"><span class=\"wr-value--temperature--c\">25°</span><span class=\"wr-hide\"> </span><span class=\"wr-value--temperature--f\">77°</span></span></span>]"
      ]
     },
     "execution_count": 14,
     "metadata": {},
     "output_type": "execute_result"
    }
   ],
   "source": [
    "daily_low_values = soup.find_all('span', attrs = {'class':'wr-day-temperature__low-value'})\n",
    "daily_low_values"
   ]
  },
  {
   "cell_type": "code",
   "execution_count": 15,
   "metadata": {},
   "outputs": [
    {
     "data": {
      "text/plain": [
       "'Drizzle and a gentle breezeLight cloud and a gentle breezeLight cloud and a gentle breezeLight cloud and a moderate breezeLight cloud and a gentle breezeLight cloud and a gentle breezeLight cloud and a moderate breezeLight cloud and a moderate breezeLight cloud and a moderate breezeLight cloud and a gentle breezeLight cloud and a gentle breezeLight cloud and a gentle breezeLight cloud and a gentle breezeLight cloud and a gentle breeze'"
      ]
     },
     "execution_count": 15,
     "metadata": {},
     "output_type": "execute_result"
    }
   ],
   "source": [
    "daily_summary = soup.find('div', attrs = {'class': 'wr-day-summary'})\n",
    "daily_summary.text"
   ]
  },
  {
   "cell_type": "code",
   "execution_count": 16,
   "metadata": {},
   "outputs": [
    {
     "data": {
      "text/plain": [
       "'30° 86°'"
      ]
     },
     "execution_count": 16,
     "metadata": {},
     "output_type": "execute_result"
    }
   ],
   "source": [
    "daily_high_values[0].text.strip()"
   ]
  },
  {
   "cell_type": "code",
   "execution_count": 17,
   "metadata": {},
   "outputs": [
    {
     "data": {
      "text/plain": [
       "'87°'"
      ]
     },
     "execution_count": 17,
     "metadata": {},
     "output_type": "execute_result"
    }
   ],
   "source": [
    "daily_high_values[9].text.strip().split()[1]"
   ]
  },
  {
   "cell_type": "code",
   "execution_count": 18,
   "metadata": {},
   "outputs": [
    {
     "data": {
      "text/plain": [
       "['30°',\n",
       " '29°',\n",
       " '29°',\n",
       " '29°',\n",
       " '30°',\n",
       " '31°',\n",
       " '31°',\n",
       " '31°',\n",
       " '31°',\n",
       " '30°',\n",
       " '31°',\n",
       " '30°',\n",
       " '31°',\n",
       " '31°']"
      ]
     },
     "execution_count": 18,
     "metadata": {},
     "output_type": "execute_result"
    }
   ],
   "source": [
    "daily_high_values_list = [i.text.strip().split()[0] for i in daily_high_values]\n",
    "daily_high_values_list"
   ]
  },
  {
   "cell_type": "code",
   "execution_count": 19,
   "metadata": {},
   "outputs": [
    {
     "data": {
      "text/plain": [
       "['24°',\n",
       " '25°',\n",
       " '25°',\n",
       " '25°',\n",
       " '25°',\n",
       " '25°',\n",
       " '25°',\n",
       " '25°',\n",
       " '25°',\n",
       " '25°',\n",
       " '25°',\n",
       " '25°',\n",
       " '25°',\n",
       " '25°']"
      ]
     },
     "execution_count": 19,
     "metadata": {},
     "output_type": "execute_result"
    }
   ],
   "source": [
    "daily_low_values_list = [i.text.strip().split()[0] for i in daily_low_values]\n",
    "daily_low_values_list"
   ]
  },
  {
   "cell_type": "code",
   "execution_count": 20,
   "metadata": {},
   "outputs": [
    {
     "data": {
      "text/plain": [
       "'Drizzle and a gentle breezeLight cloud and a gentle breezeLight cloud and a gentle breezeLight cloud and a moderate breezeLight cloud and a gentle breezeLight cloud and a gentle breezeLight cloud and a moderate breezeLight cloud and a moderate breezeLight cloud and a moderate breezeLight cloud and a gentle breezeLight cloud and a gentle breezeLight cloud and a gentle breezeLight cloud and a gentle breezeLight cloud and a gentle breeze'"
      ]
     },
     "execution_count": 20,
     "metadata": {},
     "output_type": "execute_result"
    }
   ],
   "source": [
    "daily_summary.text"
   ]
  },
  {
   "cell_type": "code",
   "execution_count": 21,
   "metadata": {},
   "outputs": [
    {
     "data": {
      "text/plain": [
       "['Drizzle and a gentle breeze',\n",
       " 'Light cloud and a gentle breeze',\n",
       " 'Light cloud and a gentle breeze',\n",
       " 'Light cloud and a moderate breeze',\n",
       " 'Light cloud and a gentle breeze',\n",
       " 'Light cloud and a gentle breeze',\n",
       " 'Light cloud and a moderate breeze',\n",
       " 'Light cloud and a moderate breeze',\n",
       " 'Light cloud and a moderate breeze',\n",
       " 'Light cloud and a gentle breeze',\n",
       " 'Light cloud and a gentle breeze',\n",
       " 'Light cloud and a gentle breeze',\n",
       " 'Light cloud and a gentle breeze',\n",
       " 'Light cloud and a gentle breeze']"
      ]
     },
     "execution_count": 21,
     "metadata": {},
     "output_type": "execute_result"
    }
   ],
   "source": [
    "daily_summary_list = re.findall('[a-zA-Z][^A-Z]*', daily_summary.text)\n",
    "daily_summary_list"
   ]
  },
  {
   "cell_type": "code",
   "execution_count": 22,
   "metadata": {},
   "outputs": [
    {
     "data": {
      "text/plain": [
       "[Timestamp('2022-08-20 09:07:10.781771', freq='D'),\n",
       " Timestamp('2022-08-21 09:07:10.781771', freq='D'),\n",
       " Timestamp('2022-08-22 09:07:10.781771', freq='D'),\n",
       " Timestamp('2022-08-23 09:07:10.781771', freq='D'),\n",
       " Timestamp('2022-08-24 09:07:10.781771', freq='D'),\n",
       " Timestamp('2022-08-25 09:07:10.781771', freq='D'),\n",
       " Timestamp('2022-08-26 09:07:10.781771', freq='D'),\n",
       " Timestamp('2022-08-27 09:07:10.781771', freq='D'),\n",
       " Timestamp('2022-08-28 09:07:10.781771', freq='D'),\n",
       " Timestamp('2022-08-29 09:07:10.781771', freq='D'),\n",
       " Timestamp('2022-08-30 09:07:10.781771', freq='D'),\n",
       " Timestamp('2022-08-31 09:07:10.781771', freq='D'),\n",
       " Timestamp('2022-09-01 09:07:10.781771', freq='D'),\n",
       " Timestamp('2022-09-02 09:07:10.781771', freq='D')]"
      ]
     },
     "execution_count": 22,
     "metadata": {},
     "output_type": "execute_result"
    }
   ],
   "source": [
    "datelist = pd.date_range(datetime.today(), periods = len(daily_summary_list)).tolist()\n",
    "datelist"
   ]
  },
  {
   "cell_type": "code",
   "execution_count": 23,
   "metadata": {},
   "outputs": [
    {
     "data": {
      "text/plain": [
       "['22-08-20',\n",
       " '22-08-21',\n",
       " '22-08-22',\n",
       " '22-08-23',\n",
       " '22-08-24',\n",
       " '22-08-25',\n",
       " '22-08-26',\n",
       " '22-08-27',\n",
       " '22-08-28',\n",
       " '22-08-29',\n",
       " '22-08-30',\n",
       " '22-08-31',\n",
       " '22-09-01',\n",
       " '22-09-02']"
      ]
     },
     "execution_count": 23,
     "metadata": {},
     "output_type": "execute_result"
    }
   ],
   "source": [
    "datelist = [i.date().strftime('%y-%m-%d') for i in datelist]\n",
    "datelist"
   ]
  },
  {
   "cell_type": "code",
   "execution_count": 24,
   "metadata": {},
   "outputs": [
    {
     "data": {
      "text/plain": [
       "<zip at 0x1bd33a8>"
      ]
     },
     "execution_count": 24,
     "metadata": {},
     "output_type": "execute_result"
    }
   ],
   "source": [
    "zipped = zip(datelist,daily_high_values_list, daily_low_values_list, daily_summary_list)\n",
    "zipped"
   ]
  },
  {
   "cell_type": "code",
   "execution_count": 25,
   "metadata": {},
   "outputs": [
    {
     "data": {
      "text/html": [
       "<div>\n",
       "<style scoped>\n",
       "    .dataframe tbody tr th:only-of-type {\n",
       "        vertical-align: middle;\n",
       "    }\n",
       "\n",
       "    .dataframe tbody tr th {\n",
       "        vertical-align: top;\n",
       "    }\n",
       "\n",
       "    .dataframe thead th {\n",
       "        text-align: right;\n",
       "    }\n",
       "</style>\n",
       "<table border=\"1\" class=\"dataframe\">\n",
       "  <thead>\n",
       "    <tr style=\"text-align: right;\">\n",
       "      <th></th>\n",
       "      <th>Date</th>\n",
       "      <th>High</th>\n",
       "      <th>Low</th>\n",
       "      <th>Summary</th>\n",
       "    </tr>\n",
       "  </thead>\n",
       "  <tbody>\n",
       "    <tr>\n",
       "      <th>0</th>\n",
       "      <td>22-08-20</td>\n",
       "      <td>30°</td>\n",
       "      <td>24°</td>\n",
       "      <td>Drizzle and a gentle breeze</td>\n",
       "    </tr>\n",
       "    <tr>\n",
       "      <th>1</th>\n",
       "      <td>22-08-21</td>\n",
       "      <td>29°</td>\n",
       "      <td>25°</td>\n",
       "      <td>Light cloud and a gentle breeze</td>\n",
       "    </tr>\n",
       "    <tr>\n",
       "      <th>2</th>\n",
       "      <td>22-08-22</td>\n",
       "      <td>29°</td>\n",
       "      <td>25°</td>\n",
       "      <td>Light cloud and a gentle breeze</td>\n",
       "    </tr>\n",
       "    <tr>\n",
       "      <th>3</th>\n",
       "      <td>22-08-23</td>\n",
       "      <td>29°</td>\n",
       "      <td>25°</td>\n",
       "      <td>Light cloud and a moderate breeze</td>\n",
       "    </tr>\n",
       "    <tr>\n",
       "      <th>4</th>\n",
       "      <td>22-08-24</td>\n",
       "      <td>30°</td>\n",
       "      <td>25°</td>\n",
       "      <td>Light cloud and a gentle breeze</td>\n",
       "    </tr>\n",
       "    <tr>\n",
       "      <th>5</th>\n",
       "      <td>22-08-25</td>\n",
       "      <td>31°</td>\n",
       "      <td>25°</td>\n",
       "      <td>Light cloud and a gentle breeze</td>\n",
       "    </tr>\n",
       "    <tr>\n",
       "      <th>6</th>\n",
       "      <td>22-08-26</td>\n",
       "      <td>31°</td>\n",
       "      <td>25°</td>\n",
       "      <td>Light cloud and a moderate breeze</td>\n",
       "    </tr>\n",
       "    <tr>\n",
       "      <th>7</th>\n",
       "      <td>22-08-27</td>\n",
       "      <td>31°</td>\n",
       "      <td>25°</td>\n",
       "      <td>Light cloud and a moderate breeze</td>\n",
       "    </tr>\n",
       "    <tr>\n",
       "      <th>8</th>\n",
       "      <td>22-08-28</td>\n",
       "      <td>31°</td>\n",
       "      <td>25°</td>\n",
       "      <td>Light cloud and a moderate breeze</td>\n",
       "    </tr>\n",
       "    <tr>\n",
       "      <th>9</th>\n",
       "      <td>22-08-29</td>\n",
       "      <td>30°</td>\n",
       "      <td>25°</td>\n",
       "      <td>Light cloud and a gentle breeze</td>\n",
       "    </tr>\n",
       "    <tr>\n",
       "      <th>10</th>\n",
       "      <td>22-08-30</td>\n",
       "      <td>31°</td>\n",
       "      <td>25°</td>\n",
       "      <td>Light cloud and a gentle breeze</td>\n",
       "    </tr>\n",
       "    <tr>\n",
       "      <th>11</th>\n",
       "      <td>22-08-31</td>\n",
       "      <td>30°</td>\n",
       "      <td>25°</td>\n",
       "      <td>Light cloud and a gentle breeze</td>\n",
       "    </tr>\n",
       "    <tr>\n",
       "      <th>12</th>\n",
       "      <td>22-09-01</td>\n",
       "      <td>31°</td>\n",
       "      <td>25°</td>\n",
       "      <td>Light cloud and a gentle breeze</td>\n",
       "    </tr>\n",
       "    <tr>\n",
       "      <th>13</th>\n",
       "      <td>22-09-02</td>\n",
       "      <td>31°</td>\n",
       "      <td>25°</td>\n",
       "      <td>Light cloud and a gentle breeze</td>\n",
       "    </tr>\n",
       "  </tbody>\n",
       "</table>\n",
       "</div>"
      ],
      "text/plain": [
       "        Date High  Low                            Summary\n",
       "0   22-08-20  30°  24°        Drizzle and a gentle breeze\n",
       "1   22-08-21  29°  25°    Light cloud and a gentle breeze\n",
       "2   22-08-22  29°  25°    Light cloud and a gentle breeze\n",
       "3   22-08-23  29°  25°  Light cloud and a moderate breeze\n",
       "4   22-08-24  30°  25°    Light cloud and a gentle breeze\n",
       "5   22-08-25  31°  25°    Light cloud and a gentle breeze\n",
       "6   22-08-26  31°  25°  Light cloud and a moderate breeze\n",
       "7   22-08-27  31°  25°  Light cloud and a moderate breeze\n",
       "8   22-08-28  31°  25°  Light cloud and a moderate breeze\n",
       "9   22-08-29  30°  25°    Light cloud and a gentle breeze\n",
       "10  22-08-30  31°  25°    Light cloud and a gentle breeze\n",
       "11  22-08-31  30°  25°    Light cloud and a gentle breeze\n",
       "12  22-09-01  31°  25°    Light cloud and a gentle breeze\n",
       "13  22-09-02  31°  25°    Light cloud and a gentle breeze"
      ]
     },
     "execution_count": 25,
     "metadata": {},
     "output_type": "execute_result"
    }
   ],
   "source": [
    "df = pd.DataFrame(list(zipped), columns = [\"Date\", \"High\", \"Low\", \"Summary\"])\n",
    "df"
   ]
  },
  {
   "cell_type": "code",
   "execution_count": 26,
   "metadata": {},
   "outputs": [],
   "source": [
    "df.High = df.High.replace('\\°', '', regex = True).astype(float)\n",
    "df.Low = df.Low.replace('\\°', '', regex = True).astype(float)"
   ]
  },
  {
   "cell_type": "code",
   "execution_count": 27,
   "metadata": {},
   "outputs": [
    {
     "data": {
      "text/html": [
       "<div>\n",
       "<style scoped>\n",
       "    .dataframe tbody tr th:only-of-type {\n",
       "        vertical-align: middle;\n",
       "    }\n",
       "\n",
       "    .dataframe tbody tr th {\n",
       "        vertical-align: top;\n",
       "    }\n",
       "\n",
       "    .dataframe thead th {\n",
       "        text-align: right;\n",
       "    }\n",
       "</style>\n",
       "<table border=\"1\" class=\"dataframe\">\n",
       "  <thead>\n",
       "    <tr style=\"text-align: right;\">\n",
       "      <th></th>\n",
       "      <th>Date</th>\n",
       "      <th>High</th>\n",
       "      <th>Low</th>\n",
       "      <th>Summary</th>\n",
       "    </tr>\n",
       "  </thead>\n",
       "  <tbody>\n",
       "    <tr>\n",
       "      <th>0</th>\n",
       "      <td>22-08-20</td>\n",
       "      <td>30.0</td>\n",
       "      <td>24.0</td>\n",
       "      <td>Drizzle and a gentle breeze</td>\n",
       "    </tr>\n",
       "    <tr>\n",
       "      <th>1</th>\n",
       "      <td>22-08-21</td>\n",
       "      <td>29.0</td>\n",
       "      <td>25.0</td>\n",
       "      <td>Light cloud and a gentle breeze</td>\n",
       "    </tr>\n",
       "    <tr>\n",
       "      <th>2</th>\n",
       "      <td>22-08-22</td>\n",
       "      <td>29.0</td>\n",
       "      <td>25.0</td>\n",
       "      <td>Light cloud and a gentle breeze</td>\n",
       "    </tr>\n",
       "    <tr>\n",
       "      <th>3</th>\n",
       "      <td>22-08-23</td>\n",
       "      <td>29.0</td>\n",
       "      <td>25.0</td>\n",
       "      <td>Light cloud and a moderate breeze</td>\n",
       "    </tr>\n",
       "    <tr>\n",
       "      <th>4</th>\n",
       "      <td>22-08-24</td>\n",
       "      <td>30.0</td>\n",
       "      <td>25.0</td>\n",
       "      <td>Light cloud and a gentle breeze</td>\n",
       "    </tr>\n",
       "    <tr>\n",
       "      <th>5</th>\n",
       "      <td>22-08-25</td>\n",
       "      <td>31.0</td>\n",
       "      <td>25.0</td>\n",
       "      <td>Light cloud and a gentle breeze</td>\n",
       "    </tr>\n",
       "    <tr>\n",
       "      <th>6</th>\n",
       "      <td>22-08-26</td>\n",
       "      <td>31.0</td>\n",
       "      <td>25.0</td>\n",
       "      <td>Light cloud and a moderate breeze</td>\n",
       "    </tr>\n",
       "    <tr>\n",
       "      <th>7</th>\n",
       "      <td>22-08-27</td>\n",
       "      <td>31.0</td>\n",
       "      <td>25.0</td>\n",
       "      <td>Light cloud and a moderate breeze</td>\n",
       "    </tr>\n",
       "    <tr>\n",
       "      <th>8</th>\n",
       "      <td>22-08-28</td>\n",
       "      <td>31.0</td>\n",
       "      <td>25.0</td>\n",
       "      <td>Light cloud and a moderate breeze</td>\n",
       "    </tr>\n",
       "    <tr>\n",
       "      <th>9</th>\n",
       "      <td>22-08-29</td>\n",
       "      <td>30.0</td>\n",
       "      <td>25.0</td>\n",
       "      <td>Light cloud and a gentle breeze</td>\n",
       "    </tr>\n",
       "    <tr>\n",
       "      <th>10</th>\n",
       "      <td>22-08-30</td>\n",
       "      <td>31.0</td>\n",
       "      <td>25.0</td>\n",
       "      <td>Light cloud and a gentle breeze</td>\n",
       "    </tr>\n",
       "    <tr>\n",
       "      <th>11</th>\n",
       "      <td>22-08-31</td>\n",
       "      <td>30.0</td>\n",
       "      <td>25.0</td>\n",
       "      <td>Light cloud and a gentle breeze</td>\n",
       "    </tr>\n",
       "    <tr>\n",
       "      <th>12</th>\n",
       "      <td>22-09-01</td>\n",
       "      <td>31.0</td>\n",
       "      <td>25.0</td>\n",
       "      <td>Light cloud and a gentle breeze</td>\n",
       "    </tr>\n",
       "    <tr>\n",
       "      <th>13</th>\n",
       "      <td>22-09-02</td>\n",
       "      <td>31.0</td>\n",
       "      <td>25.0</td>\n",
       "      <td>Light cloud and a gentle breeze</td>\n",
       "    </tr>\n",
       "  </tbody>\n",
       "</table>\n",
       "</div>"
      ],
      "text/plain": [
       "        Date  High   Low                            Summary\n",
       "0   22-08-20  30.0  24.0        Drizzle and a gentle breeze\n",
       "1   22-08-21  29.0  25.0    Light cloud and a gentle breeze\n",
       "2   22-08-22  29.0  25.0    Light cloud and a gentle breeze\n",
       "3   22-08-23  29.0  25.0  Light cloud and a moderate breeze\n",
       "4   22-08-24  30.0  25.0    Light cloud and a gentle breeze\n",
       "5   22-08-25  31.0  25.0    Light cloud and a gentle breeze\n",
       "6   22-08-26  31.0  25.0  Light cloud and a moderate breeze\n",
       "7   22-08-27  31.0  25.0  Light cloud and a moderate breeze\n",
       "8   22-08-28  31.0  25.0  Light cloud and a moderate breeze\n",
       "9   22-08-29  30.0  25.0    Light cloud and a gentle breeze\n",
       "10  22-08-30  31.0  25.0    Light cloud and a gentle breeze\n",
       "11  22-08-31  30.0  25.0    Light cloud and a gentle breeze\n",
       "12  22-09-01  31.0  25.0    Light cloud and a gentle breeze\n",
       "13  22-09-02  31.0  25.0    Light cloud and a gentle breeze"
      ]
     },
     "metadata": {},
     "output_type": "display_data"
    }
   ],
   "source": [
    "display(df)"
   ]
  },
  {
   "cell_type": "code",
   "execution_count": 28,
   "metadata": {},
   "outputs": [],
   "source": [
    "location = soup.find('h1', attrs = {'id': 'wr-location-name-id'})\n",
    "location = location.text.split()"
   ]
  },
  {
   "cell_type": "code",
   "execution_count": 29,
   "metadata": {},
   "outputs": [
    {
     "data": {
      "text/plain": [
       "['Mumbai', '-', 'Weather', 'warnings', 'issued']"
      ]
     },
     "execution_count": 29,
     "metadata": {},
     "output_type": "execute_result"
    }
   ],
   "source": [
    "location"
   ]
  },
  {
   "cell_type": "code",
   "execution_count": 30,
   "metadata": {},
   "outputs": [],
   "source": [
    "filename_csv = location[0]+'.csv'\n",
    "df.to_csv(filename_csv, index = None)"
   ]
  },
  {
   "cell_type": "code",
   "execution_count": 31,
   "metadata": {},
   "outputs": [
    {
     "ename": "ModuleNotFoundError",
     "evalue": "No module named 'openpyxl'",
     "output_type": "error",
     "traceback": [
      "\u001b[1;31m---------------------------------------------------------------------------\u001b[0m",
      "\u001b[1;31mModuleNotFoundError\u001b[0m                       Traceback (most recent call last)",
      "\u001b[1;32m<ipython-input-31-ca42f536942a>\u001b[0m in \u001b[0;36m<module>\u001b[1;34m\u001b[0m\n\u001b[0;32m      1\u001b[0m \u001b[0mfilename_xlsx\u001b[0m \u001b[1;33m=\u001b[0m \u001b[0mlocation\u001b[0m\u001b[1;33m[\u001b[0m\u001b[1;36m0\u001b[0m\u001b[1;33m]\u001b[0m\u001b[1;33m+\u001b[0m\u001b[1;34m'.xlsx'\u001b[0m\u001b[1;33m\u001b[0m\u001b[1;33m\u001b[0m\u001b[0m\n\u001b[1;32m----> 2\u001b[1;33m \u001b[0mdf\u001b[0m\u001b[1;33m.\u001b[0m\u001b[0mto_excel\u001b[0m\u001b[1;33m(\u001b[0m\u001b[0mfilename_xlsx\u001b[0m\u001b[1;33m)\u001b[0m\u001b[1;33m\u001b[0m\u001b[1;33m\u001b[0m\u001b[0m\n\u001b[0m",
      "\u001b[1;32mc:\\users\\acer\\appdata\\local\\programs\\python\\python38-32\\lib\\site-packages\\pandas\\core\\generic.py\u001b[0m in \u001b[0;36mto_excel\u001b[1;34m(self, excel_writer, sheet_name, na_rep, float_format, columns, header, index, index_label, startrow, startcol, engine, merge_cells, encoding, inf_rep, verbose, freeze_panes)\u001b[0m\n\u001b[0;32m   2021\u001b[0m             \u001b[0minf_rep\u001b[0m\u001b[1;33m=\u001b[0m\u001b[0minf_rep\u001b[0m\u001b[1;33m,\u001b[0m\u001b[1;33m\u001b[0m\u001b[1;33m\u001b[0m\u001b[0m\n\u001b[0;32m   2022\u001b[0m         )\n\u001b[1;32m-> 2023\u001b[1;33m         formatter.write(\n\u001b[0m\u001b[0;32m   2024\u001b[0m             \u001b[0mexcel_writer\u001b[0m\u001b[1;33m,\u001b[0m\u001b[1;33m\u001b[0m\u001b[1;33m\u001b[0m\u001b[0m\n\u001b[0;32m   2025\u001b[0m             \u001b[0msheet_name\u001b[0m\u001b[1;33m=\u001b[0m\u001b[0msheet_name\u001b[0m\u001b[1;33m,\u001b[0m\u001b[1;33m\u001b[0m\u001b[1;33m\u001b[0m\u001b[0m\n",
      "\u001b[1;32mc:\\users\\acer\\appdata\\local\\programs\\python\\python38-32\\lib\\site-packages\\pandas\\io\\formats\\excel.py\u001b[0m in \u001b[0;36mwrite\u001b[1;34m(self, writer, sheet_name, startrow, startcol, freeze_panes, engine)\u001b[0m\n\u001b[0;32m    728\u001b[0m             \u001b[0mneed_save\u001b[0m \u001b[1;33m=\u001b[0m \u001b[1;32mFalse\u001b[0m\u001b[1;33m\u001b[0m\u001b[1;33m\u001b[0m\u001b[0m\n\u001b[0;32m    729\u001b[0m         \u001b[1;32melse\u001b[0m\u001b[1;33m:\u001b[0m\u001b[1;33m\u001b[0m\u001b[1;33m\u001b[0m\u001b[0m\n\u001b[1;32m--> 730\u001b[1;33m             \u001b[0mwriter\u001b[0m \u001b[1;33m=\u001b[0m \u001b[0mExcelWriter\u001b[0m\u001b[1;33m(\u001b[0m\u001b[0mstringify_path\u001b[0m\u001b[1;33m(\u001b[0m\u001b[0mwriter\u001b[0m\u001b[1;33m)\u001b[0m\u001b[1;33m,\u001b[0m \u001b[0mengine\u001b[0m\u001b[1;33m=\u001b[0m\u001b[0mengine\u001b[0m\u001b[1;33m)\u001b[0m\u001b[1;33m\u001b[0m\u001b[1;33m\u001b[0m\u001b[0m\n\u001b[0m\u001b[0;32m    731\u001b[0m             \u001b[0mneed_save\u001b[0m \u001b[1;33m=\u001b[0m \u001b[1;32mTrue\u001b[0m\u001b[1;33m\u001b[0m\u001b[1;33m\u001b[0m\u001b[0m\n\u001b[0;32m    732\u001b[0m \u001b[1;33m\u001b[0m\u001b[0m\n",
      "\u001b[1;32mc:\\users\\acer\\appdata\\local\\programs\\python\\python38-32\\lib\\site-packages\\pandas\\io\\excel\\_openpyxl.py\u001b[0m in \u001b[0;36m__init__\u001b[1;34m(self, path, engine, mode, **engine_kwargs)\u001b[0m\n\u001b[0;32m     16\u001b[0m     \u001b[1;32mdef\u001b[0m \u001b[0m__init__\u001b[0m\u001b[1;33m(\u001b[0m\u001b[0mself\u001b[0m\u001b[1;33m,\u001b[0m \u001b[0mpath\u001b[0m\u001b[1;33m,\u001b[0m \u001b[0mengine\u001b[0m\u001b[1;33m=\u001b[0m\u001b[1;32mNone\u001b[0m\u001b[1;33m,\u001b[0m \u001b[0mmode\u001b[0m\u001b[1;33m=\u001b[0m\u001b[1;34m\"w\"\u001b[0m\u001b[1;33m,\u001b[0m \u001b[1;33m**\u001b[0m\u001b[0mengine_kwargs\u001b[0m\u001b[1;33m)\u001b[0m\u001b[1;33m:\u001b[0m\u001b[1;33m\u001b[0m\u001b[1;33m\u001b[0m\u001b[0m\n\u001b[0;32m     17\u001b[0m         \u001b[1;31m# Use the openpyxl module as the Excel writer.\u001b[0m\u001b[1;33m\u001b[0m\u001b[1;33m\u001b[0m\u001b[1;33m\u001b[0m\u001b[0m\n\u001b[1;32m---> 18\u001b[1;33m         \u001b[1;32mfrom\u001b[0m \u001b[0mopenpyxl\u001b[0m\u001b[1;33m.\u001b[0m\u001b[0mworkbook\u001b[0m \u001b[1;32mimport\u001b[0m \u001b[0mWorkbook\u001b[0m\u001b[1;33m\u001b[0m\u001b[1;33m\u001b[0m\u001b[0m\n\u001b[0m\u001b[0;32m     19\u001b[0m \u001b[1;33m\u001b[0m\u001b[0m\n\u001b[0;32m     20\u001b[0m         \u001b[0msuper\u001b[0m\u001b[1;33m(\u001b[0m\u001b[1;33m)\u001b[0m\u001b[1;33m.\u001b[0m\u001b[0m__init__\u001b[0m\u001b[1;33m(\u001b[0m\u001b[0mpath\u001b[0m\u001b[1;33m,\u001b[0m \u001b[0mmode\u001b[0m\u001b[1;33m=\u001b[0m\u001b[0mmode\u001b[0m\u001b[1;33m,\u001b[0m \u001b[1;33m**\u001b[0m\u001b[0mengine_kwargs\u001b[0m\u001b[1;33m)\u001b[0m\u001b[1;33m\u001b[0m\u001b[1;33m\u001b[0m\u001b[0m\n",
      "\u001b[1;31mModuleNotFoundError\u001b[0m: No module named 'openpyxl'"
     ]
    }
   ],
   "source": [
    "filename_xlsx = location[0]+'.xlsx'\n",
    "df.to_excel(filename_xlsx)"
   ]
  },
  {
   "cell_type": "code",
   "execution_count": null,
   "metadata": {},
   "outputs": [],
   "source": []
  }
 ],
 "metadata": {
  "kernelspec": {
   "display_name": "Python 3",
   "language": "python",
   "name": "python3"
  },
  "language_info": {
   "codemirror_mode": {
    "name": "ipython",
    "version": 3
   },
   "file_extension": ".py",
   "mimetype": "text/x-python",
   "name": "python",
   "nbconvert_exporter": "python",
   "pygments_lexer": "ipython3",
   "version": "3.8.5"
  }
 },
 "nbformat": 4,
 "nbformat_minor": 4
}
